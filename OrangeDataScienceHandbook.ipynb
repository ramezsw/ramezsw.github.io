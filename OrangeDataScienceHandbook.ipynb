{
 "cells": [
  {
   "cell_type": "markdown",
   "metadata": {},
   "source": [
    "<img src=\"orange-logo-vector.png\" width=\"150\" height=\"150\" align=\"right\"/>\n",
    "\n",
    "# The Data Center of Excellence Playbook\n",
    "### Data Strategy & Governance - Orange Jordan\n",
    "\n",
    "<br></br>\n",
    "<blockquote>\n",
    "    <p><i>\"Data science and AI is almost everything that has something to do with data: collecting, reshaping, analyzing, modeling... yet the most important part is its applications — all sorts of applications.\"</i></p>\n",
    "    <footer>Journal of Data Science</footer>\n",
    "</blockquote>\n",
    "\n",
    "## Table of Contents:\n",
    "* [Introduction](#first-bullet)\n",
    "* [Data Operating Model](#second-bullet)\n",
    "* [Team Principles](#third-bullet)\n",
    "* [Process and Roles](#fourth-bullet)\n",
    "* [Team Culture and Philosophy](#fifth-bullet)\n",
    "* [Wrap Up](#sixth-bullet)"
   ]
  },
  {
   "cell_type": "markdown",
   "metadata": {},
   "source": [
    "<a id='first-bullet'></a>\n",
    "## 1. Introduction"
   ]
  },
  {
   "cell_type": "markdown",
   "metadata": {},
   "source": [
    "Data science is the art of turning data into insights to inform decisions. Effective data science can bring higher productivity, greater returns, and overall improved performance to the company. Orange Jordan have been collecting data for a long time, which means we are now on the right track to use data science to drive mission and business success. A focus on data science and AI helps us understand past events, predict future trends, and prescribe optimal courses of action. Ultimately this will lead to improved operations, differentiated customer value propositions, and competitive advantage.\n",
    "\n",
    "The Data team is part of the Digital and Innovation Unit within Orange Jordan. But, the work we do serves the entire company. We do this by solving real company problems using data. And we work with all the different departments and stakeholders involved in the business problem.\n",
    "\n",
    "#### Our ambitions and goals are as follows:\n",
    "<ul>\n",
    "    <li>Cultivate and evolve analytics use-cases to deliver value through predictive and statistical analysis.</li>\n",
    "    <li>Create a common data framework and governance practice.</li>\n",
    "    <li>Establish a change management process for source systems, data transformations, analytics, and reporting.</li>\n",
    "    <li>Innovate, be creative, and most importantly have fun while we enable digital transformation through enforcing a data driven culture within Orange.</li>\n",
    "</ul>\n",
    "\n",
    "Chances are that we do have fun while working but more importantly we are obsessed with improving things, solving complex problems that are worth solving and making a real impact using data. In order to be at the center of excellence, we as the data analytics team must be able to clear the below checklist and comfortably answer the proposed questions.\n",
    "\n",
    "<ol>\n",
    "    <li><b>Purpose —</b> what is the purpose of our work ?</li>\n",
    "    <li><b>Impact —</b> what does impact mean to us ?</li>\n",
    "    <li><b>Data Driven Framework —</b> how to operationalize and scale that impact ?</li>\n",
    "    <li><b>Utilization and Storytelling —</b> how to make the best use of analytics ?</li>\n",
    "    <li><b>Responsibility —</b> what should we do to make the entire organization better ?</li>\n",
    "    <li><b>Review —</b> how can we make sure we are doing our best ?</li>\n",
    "    <li><b>Vision —</b> where are we going, what’s next ?</li>\n",
    "</ol>\n",
    "\n",
    "<img src=\"uagw2ei8dijcxw.PNG\" width=\"550\" height=\"200\"  align=\"center\"/>"
   ]
  },
  {
   "cell_type": "markdown",
   "metadata": {},
   "source": [
    "This Handbook serves as an intro and welcome guide to newcomers entering the analytics team in Orange Jordan - it will not cover technical details about specific data science projects, but it will cover important guidelines for the operating model, team principles, processes and roles within the data ecosystem and culture within Orange Jordan. "
   ]
  },
  {
   "cell_type": "markdown",
   "metadata": {},
   "source": [
    "<a id='second-bullet'></a>\n",
    "## 2. Operating Model"
   ]
  },
  {
   "cell_type": "markdown",
   "metadata": {},
   "source": [
    "A successful data operating model relies on six critical building blocks, supported by a strong change management program…<br>\n",
    "The Data Center of Excellence at Orange Jordan is committed to maintain, deliver, and operate under the umbrella of the below building blocks</br>"
   ]
  },
  {
   "cell_type": "markdown",
   "metadata": {},
   "source": [
    "<img src=\"DataOperatingModel1.png\" height=\"750\" width=\"950\" align=\"left\"/>\n"
   ]
  },
  {
   "cell_type": "markdown",
   "metadata": {},
   "source": [
    "<li><b><span style=\"color:#FFDC00\">Use Cases</span>:</b> or <b><span style=\"color:#FFDC00\"><i>Analytics Opportunities</i></span>  - </b> Considers new and existing use cases to apply data science and machine learning to improve organization operations, in turn continuously deliver value to Orange services as well as customer base.</li>"
   ]
  },
  {
   "cell_type": "markdown",
   "metadata": {},
   "source": [
    "<li><b><span style=\"color:#4BB4E6\">Organization & Governance</span>:</b> Considers the scope, role, and responsibilities of the Data function and anything data-related within Orange.</li>"
   ]
  },
  {
   "cell_type": "markdown",
   "metadata": {},
   "source": [
    "<li><b><span style=\"color:#50BE87\">Talent & Culture</span>:</b> or <b><span style=\"color:#50BE87\"><i>People & Culture</i></span>  - </b> Considers the set of mechanisms that communicate, share, and reinforce the value of data science across Orange to change the perception of the staff. This change is driven by Talent, which is a combination of skills and mindsets focused on problem solving through data intuition and effective communication.</li>"
   ]
  },
  {
   "cell_type": "markdown",
   "metadata": {},
   "source": [
    "<li><b><span style=\"color:#ff6600\">Data Quality & Availability</span>:</b>  Considers opportunities to use new and existing data sets and better manage and govern data in support of data science and advanced analytics projects.</li>"
   ]
  },
  {
   "cell_type": "markdown",
   "metadata": {},
   "source": [
    "<li><b><span style=\"color:#9164cd\">Security, Regulation, & Privacy</span>:</b> Considers the ethics, risk, and regulatory review. And ensures that all the data-related activities fall under the security assurance and compliance roadmap.</li>"
   ]
  },
  {
   "cell_type": "markdown",
   "metadata": {},
   "source": [
    "<li><b><span style=\"color:#FFBEF5\n",
    "\">Infrastructure & Systems</span>:</b> or <b><span style=\"color:#FFBEF5\"><i>Analytics techniques & Technology</i></span>  - </b> Considers the optimal ways to use existing and new technologies including applications, frameworks, approach, data platforms, and infrastructure to perform data science projects.</li>"
   ]
  },
  {
   "cell_type": "markdown",
   "metadata": {},
   "source": [
    "<a id='third-bullet'></a>\n",
    "## 3. Team Principles"
   ]
  },
  {
   "cell_type": "markdown",
   "metadata": {},
   "source": [
    "Successful data analytics projects at Orange are the outcome of combined efforts from various stakeholders. A typical data project and team has members who fall along a spectrum of various skills and focus areas. \n",
    "\n",
    "As Data Center of Excellence, we work closely with multi-disciplined teams from business, IT and engineering, Marketing, and various data profiles. All of these profiles are essential enablers of a succeful delivery of a data science project.\n",
    "\n",
    "The Center of Excellence is built on <b>5 key principles</b>."
   ]
  },
  {
   "cell_type": "markdown",
   "metadata": {},
   "source": [
    "<img src=\"TeamPrinciples.png\" height=\"750\" width=\"950\" align=\"left\"/>\n"
   ]
  },
  {
   "cell_type": "markdown",
   "metadata": {},
   "source": [
    "<blockquote>\n",
    "    <p style=\"font-size:1.2em\"><i>\"If everyone is moving forward together, then success takes care of itself.\"</i></p>\n",
    "    <footer style=\"font-size:1.1em\">Henry Ford</footer>\n",
    "</blockquote>"
   ]
  },
  {
   "cell_type": "markdown",
   "metadata": {},
   "source": [
    "<a id='fourth-bullet'></a>\n",
    "### 3.1. Roles and Responsibilities"
   ]
  },
  {
   "cell_type": "markdown",
   "metadata": {},
   "source": [
    "Everyone in the data team works together towards a common goal: delivering value. Value comes in all forms and shapes, it can be value to other stakeholders within the organization, value to the customers, value to Orange company, or value to the team itself. However, the general mindset in the data team shall revolve around delivering value to customers. Customer centricity is the key driver for digital transformation, and having proper data governance and analytics standards is key enabler of digital within Orange. Hence, by being focused on delivering value and better services to Orange customers, then by default the stakeholders, company, and the team will have increased value as well; A loyal customer adds value to the brand image, and in turn increase revenue and reduce retention costs which leads to happier management. Happier management will reflect onto the team where the team's value to the company and it's recognition will increase. So in the end, by focusing on customers, all the involved parties will gain value as well."
   ]
  },
  {
   "cell_type": "markdown",
   "metadata": {},
   "source": [
    "Naturally, the role of a data scientist is heavilty technical; it requires lots of math and programming skills, as well as research skills. However, this does not mean that data science is strictly IT-related. Our work is heavily influenced and driven by business - depending of the use case. The below infograph illustrates the different responsibilities between the IT side of data projects and the business side."
   ]
  },
  {
   "cell_type": "markdown",
   "metadata": {},
   "source": [
    "<img src=\"DEvDS_enhanced.PNG\" height=\"800\" width=\"1000\" align=\"left\">\n",
    "<figcaption style=\"color:gray;text-align:center;\"> Source: DataCamp.com </figcaption>"
   ]
  },
  {
   "cell_type": "markdown",
   "metadata": {},
   "source": [
    "Of course any data project isn't specific to these two roles, there are various roles who act as enablers to the project, such as business analysts, use case owners, data owners and data stewards to begin with... However, the main engine that runs on the fuel that is data is the data scientists and data engineers."
   ]
  },
  {
   "cell_type": "markdown",
   "metadata": {},
   "source": [
    "<a id='3.2-bullet'></a>\n",
    "### 3.2 Data Use Case Delivery Process"
   ]
  },
  {
   "cell_type": "markdown",
   "metadata": {},
   "source": [
    "Within the data team, we are always working on use cases - or coming up with new ideas for use cases. However, a succesful delivery of a use case doesn't just happen by itself, nor is it restricted to data scientists and engineers alone. At Orange Jordan, we follow a specific workflow or pipeline of events that involve a handful of team players of different backgrounds to ensure the succesful delivery of an analytics use case. The main responsibilities and tasks of each individual team member are illustrated below."
   ]
  },
  {
   "cell_type": "markdown",
   "metadata": {},
   "source": [
    "<img src=\"useCaseDeliveryProcess.png\" align=\"left\">"
   ]
  },
  {
   "cell_type": "markdown",
   "metadata": {},
   "source": [
    "Aside from the data scientists and engineers, the below roles contribute directly and indirectly to the delivery of any analytics use case.\n",
    "<br></br>\n",
    "    <img src=\"busanalyst_sidenote.png\" width=\"350\" height=\"160\" align=\"right\"/>\n",
    "\n",
    "<ul>\n",
    "    <li style=\"list-style-image: url(busanalyst.png)\"><b>Business Analyst —</b> business analyst is required to have deep business knowledge and understanding of data as depth and breadth of data increases. Further, business analyst would also have to work alongside with business and technical teams and should be comfortable speaking in their language. While a data scientist is a critical role for any use case, there is a need for a \"translator\" who serves as the link between analytical talent and practical applications to business questions. The Business analyst will review and interpret the models' results from a business perspective, and they essentially own the transformation of the business process related to the use case.</li>\n",
    "    <br></br>\n",
    "    <li style=\"list-style-image: url(visualizer.png)\"><b>Data Visualizer —</b> The data visualizer is a creative thinker who understands design as well as<br> can read raw data and translate it into stories.</br></li>\n",
    "                    <img src=\"usecaseowner_sidenote.png\" width=\"350\" height=\"160\" align=\"right\"/>\n",
    "    <li style=\"list-style-image: url(usecaseowner.png)\"><b>Use Case Owner —</b> The Use Case Owner is a critical role in any analytics project, they are responsible for driving the use case delivery based on the given insights, and are held accountable for the business case realization.</li>\n",
    "    <br></br>\n",
    "    <li style=\"list-style-image: url(steward.png)\"><b>Data Steward —</b> The role of a data steward is a transversal one, in the sense that the steward is not assigned to a use case directly, but act as an enabler to the use case by assessing and enhancing the data quality, and having the know-how of extracting critical data points that aid in <br>increasing the accuracy of models.<br></li>\n",
    "    <br></br>\n",
    "    <li style=\"list-style-image: url(dataarchitect.png)\"><b>Data Architect —</b> This is an IT role that is somewhat similar to the Data Engineer, but they are <br>responsible defining and documenting the architecture, tools, pipelines for big data storage.<br></li>\n",
    "                <img src=\"steward_sidenote.png\" width=\"350\" height=\"160\" align=\"right\"/>\n",
    "    <br></br>\n",
    "    <li style=\"list-style-image: url(vectords1.png)\"><b>Data Governance Lead —</b> Responsible for a whole lot of things. </li>\n",
    "    <br></br>\n",
    "    <li style=\"list-style-image: url(privacyofficer.png)\"><b>Data and Privacy Specialist—</b> Is this needed? we don't follow GDPR, PSD2, nor are our analyses customer facing, we also don't need user concent to analyze their data. </li>\n",
    "</ul>\n",
    "\n"
   ]
  },
  {
   "cell_type": "markdown",
   "metadata": {},
   "source": [
    "<a id='fifth-bullet'></a>\n",
    "## 4. Culture and Philosophy"
   ]
  },
  {
   "cell_type": "markdown",
   "metadata": {},
   "source": [
    "The culture of the data Center of Excellence at Orange Jordan revolves around 4 main dimensions. Each of these dimensions is inpenendent from the other, but all of them act as a key trait for the culture. The diagram below summarizes the culture traits concisely."
   ]
  },
  {
   "cell_type": "markdown",
   "metadata": {},
   "source": [
    "<img src=\"Culture.png\" align=\"left\">"
   ]
  },
  {
   "cell_type": "markdown",
   "metadata": {},
   "source": [
    "<a id='sixth-bullet'></a>\n",
    "## 5. Wrap Up"
   ]
  },
  {
   "cell_type": "markdown",
   "metadata": {},
   "source": [
    "Under the above-mentioned guidelines, the real fun is defined; it is the ability and freedom to dive deeply into a problem statement and try to find solutions using anything that your creativity allows. Machine learning and deep learning are terms that have existed since the 1950's, they are the hype and trend now due to the ever-increasing media attention. Data Science is much more than ML/DL — it is about problem solving, it is about data intuition and creativity, it is about finding unknown unknowns using endless different approaches and hypotheses. To stand out in your delivery, you are only confined by your creativity. So set a vision and go with it, and only then you will enjoy change."
   ]
  },
  {
   "cell_type": "markdown",
   "metadata": {},
   "source": [
    "Join the Orange Data Center of Excellence on slack\n",
    "<br></br>\n",
    "Org Name: <strong>datacenterofe-dcj9488.slack.com</strong>\n",
    "\n",
    "Or ask for an invite!"
   ]
  }
 ],
 "metadata": {
  "kernelspec": {
   "display_name": "Python 3",
   "language": "python",
   "name": "python3"
  },
  "language_info": {
   "codemirror_mode": {
    "name": "ipython",
    "version": 3
   },
   "file_extension": ".py",
   "mimetype": "text/x-python",
   "name": "python",
   "nbconvert_exporter": "python",
   "pygments_lexer": "ipython3",
   "version": "3.7.3"
  }
 },
 "nbformat": 4,
 "nbformat_minor": 2
}
